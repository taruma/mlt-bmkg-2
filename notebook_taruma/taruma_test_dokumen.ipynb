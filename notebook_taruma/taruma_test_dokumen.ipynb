{
  "nbformat": 4,
  "nbformat_minor": 0,
  "metadata": {
    "colab": {
      "name": "taruma_test_dokumen.ipynb",
      "provenance": [],
      "authorship_tag": "ABX9TyO1vfgzZec9+FFGaSLZKWuc",
      "include_colab_link": true
    },
    "kernelspec": {
      "name": "python3",
      "display_name": "Python 3"
    },
    "language_info": {
      "name": "python"
    }
  },
  "cells": [
    {
      "cell_type": "markdown",
      "metadata": {
        "id": "view-in-github",
        "colab_type": "text"
      },
      "source": [
        "<a href=\"https://colab.research.google.com/github/taruma/mlt-bmkg-2/blob/taruma/notebook_taruma/taruma_test_dokumen.ipynb\" target=\"_parent\"><img src=\"https://colab.research.google.com/assets/colab-badge.svg\" alt=\"Open In Colab\"/></a>"
      ]
    },
    {
      "cell_type": "code",
      "execution_count": null,
      "metadata": {
        "colab": {
          "base_uri": "https://localhost:8080/"
        },
        "id": "rTWot_ppX5ue",
        "outputId": "a4c35ce3-9c15-4f32-9174-233811fce488"
      },
      "outputs": [
        {
          "output_type": "stream",
          "name": "stdout",
          "text": [
            "Hello World\n"
          ]
        }
      ],
      "source": [
        "print('Hello World')"
      ]
    },
    {
      "cell_type": "code",
      "source": [
        "print('Hello World 2')"
      ],
      "metadata": {
        "id": "lFqqYxZzX_R9"
      },
      "execution_count": null,
      "outputs": []
    }
  ]
}